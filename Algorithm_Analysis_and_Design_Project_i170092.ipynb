{
 "cells": [
  {
   "cell_type": "markdown",
   "metadata": {},
   "source": [
    "# Algorithm Analysis and Design Semester Project"
   ]
  },
  {
   "cell_type": "markdown",
   "metadata": {},
   "source": [
    "### Project Guidelines "
   ]
  },
  {
   "cell_type": "markdown",
   "metadata": {},
   "source": [
    "DBLP listed more than 3.66 million journal articles, conference papers, and other\n",
    "publications on computer science in July 2016, up from about 14,000 in 1995. All important\n",
    "journals on computer science are tracked. Proceedings papers of many conferences are\n",
    "also tracked. It is mirrored at three sites across the Internet.\n",
    "This semester your Design and Analysis of Algorithm project is to use a DBLP dataset\n",
    "from the following link.        \n",
    "https://drive.google.com/file/d/1_-n6eQI-7O9l9F9tHteQAH_CRsqeeUfC/view?usp=sharing        \n",
    "DBLP dataset has information of collaboration among multiple researchers. In this project\n",
    "you have to find the most important collaboration among the whole dataset. In order to do\n",
    "so you need to create a graph for the given data set. In your graph, Node represents\n",
    "researchers and the link between them indicates collaboration among multiple researchers\n",
    "while weight on that link shows the number of times those researchers have worked\n",
    "together.    \n",
    "Your tasks are following    \n",
    "1. Create a graph representation from a file that has 3 columns, first two columns represent author id and third represents the weight of the link. Edge weight is proportional to the amount of collaboration (bigger means collaborating quite frequently)\n",
    "2. Create a Maximum spanning tree from the graph created in (1) . This represents the top collaborators of each researcher.\n",
    "3. By using the maximum spanning tree generated in (2) enumerate the top 5 distinct collaborator pairs. Your algorithm must perform better than brute force. Credit for this question mainly depends on the algorithm efficiency along with the accuracy.        \n",
    "    \n",
    "Instructions:    \n",
    "● You need to submit your code in Google classroom.    \n",
    "● This is a group project. Each group should not exceed more than 2.    \n",
    "● Every group should notify TA’s about its members.    \n",
    "● No late submissions are acceptable.    \n",
    "● Code should be submitted with results. (Any language is allowed)    \n",
    "● Assignment deadline is 15 May but in order to give enough time department have decided to give extension to project till 1 june and accept submissions without any deduction.    \n",
    "● Considering COVID-19 situation in Pakistan IF there are no final exams in Pakistan then this project would have considerably high weightage.    "
   ]
  },
  {
   "cell_type": "markdown",
   "metadata": {},
   "source": [
    "### Graph Implementation"
   ]
  },
  {
   "cell_type": "markdown",
   "metadata": {},
   "source": [
    "Best data structures that we can use to implement graphs in python. They are none other than dictionaries and lists."
   ]
  },
  {
   "cell_type": "markdown",
   "metadata": {},
   "source": [
    "### Terminology\n",
    "##### Vertex  \n",
    "A vertex is the most basic part of a graph and it is also called a node. Throughout we'll call it note. A vertex may also have additional information and we'll call it as payload.\n",
    "\n",
    "##### Edge    \n",
    "An edge is another basic part of a graph, and it connects two vertices/ Edges may be one-way or two-way. If the edges in a graph are all one-way, the graph is a directed graph, or a digraph. The picture shown above is not a digraph.\\n\n",
    "  \n",
    "##### Weight   \n",
    "Edges may be weighted to show that there is a cost to go from one vertex to another. For example in a graph of roads that connect one city to another, the weight on the edge might represent the distance between the two cities or traffic status.\n",
    "\n",
    "##### Graph   \n",
    "A graph can be represented by G where G=(V,E). V is a set of vertices and E is a set of edges. Each edge is a tuple (v,w) where w,v in V. We can add a third component to the edge tuple to represent a weight. A subgraph s is a set of edges e and vertices v such that e in E and v in V.\n",
    "    \n",
    "    V={a,b,c,d,e,f}\n",
    "    and the set of nine edges:\n",
    " \n",
    "    E={(a,b,7),(a,c,9),(a,f,14),(b,d,15),(b,c,10),(c,d,11),(c,f,2),(d,e,6),(e,f,9)}\n",
    "    \n",
    "##### Path    \n",
    "A path in a graph is a sequence of vertices that are connected by edges. We usually define a path as w_1, w_2,..., w_n such that (w_i, w_{i+1}) in E for all 1 le i le n-1. The unweighted path length is the number of edges in the path (n-1). The weighted path length is the sum of the weights of all the edges in the path. For example in the picture above, the path from a to e is the sequence of vertices (a, c, d, e). The edges are {(a, c, 9), (c, d, 11), (d, e, 6)}.\n",
    " \n",
    "##### Cycle   \n",
    "A cycle in a directed graph is a path that starts and ends at the same vertex. A graph with no cycles is called an acyclic graph. A directed graph with no cycles is called a directed acyclic graph or a DAG."
   ]
  },
  {
   "cell_type": "markdown",
   "metadata": {},
   "source": [
    "### Concept\n",
    "\n",
    "Vertex class uses a dictionary (adjacent) to keep track of the vertices to which it is connected, and the weight of each edge. The Vertex constructor initializes the id, which is usually a string, and the adjacent dictionary. \n",
    "\n",
    "The add_neighbor() method is used add a connection from this vertex to another. \n",
    "\n",
    "The get_connections() method returns all of the vertices in the adjacency list. \n",
    "\n",
    "The get_weight() method returns the weight of the edge from this vertex to the vertex passed as a parameter.\n",
    "\n",
    "The Graph class contains a dictionary(id-dict) that maps vertex names to vertex objects, and we can see the output by the __str__() method of Vertex class.\n",
    "\n",
    "Graph also provides methods for adding vertices to a graph and connecting one vertex to another. \n",
    "\n",
    "The get_vertices() method returns the names of all of the vertices in the graph. \n",
    "\n",
    "The __iter__() method to make it easy to iterate over all the vertex objects in a particular graph. "
   ]
  },
  {
   "cell_type": "markdown",
   "metadata": {},
   "source": [
    "### Imports"
   ]
  },
  {
   "cell_type": "code",
   "execution_count": 1,
   "metadata": {},
   "outputs": [],
   "source": [
    "from itertools import accumulate\n",
    "import numpy as np\n",
    "import math"
   ]
  },
  {
   "cell_type": "markdown",
   "metadata": {},
   "source": [
    "### Vertex Class"
   ]
  },
  {
   "cell_type": "code",
   "execution_count": 2,
   "metadata": {},
   "outputs": [],
   "source": [
    "class Vertex:\n",
    "    def __init__(self, iD, name, adjacentVertices = {}):\n",
    "        # Initializes a vertex with id, name and adjacentVertices dictionary.\n",
    "        self.id = iD\n",
    "        self.name = name\n",
    "        self.adjacentVertices = adjacentVertices\n",
    "        self.edges = []\n",
    "    \n",
    "    def __str__(self):\n",
    "        # Makes graph iterable\n",
    "        return str(self.id) + str(self.name) + ' edges: ' + str([x.id for x in self.adjacentVertices])\n",
    "    \n",
    "    def add_neighborVertexObj(self, neighborVertexObj, weight=0):\n",
    "        # Takes  neighborVertexObj and adds to dictionary with vector obj as key and weight as value.\n",
    "        # If vector obj key already exists then weight value is replaced.\n",
    "        self.adjacentVertices[neighborVertexObj] = weight\n",
    "        self.edges.append([self.id, neighborVertexObj.get_id(), weight])\n",
    "        \n",
    "    def get_edges(self):\n",
    "        return self.edges\n",
    "    \n",
    "    def get_neighborVertexObj(self):\n",
    "        # Returns all neighborVertexObj in adjacent dictionary\n",
    "        edges = self.adjacentVertices.keys() \n",
    "        return edges\n",
    "    \n",
    "    def get_id(self):\n",
    "        # Returns id of the vertex\n",
    "        return self.id\n",
    "    \n",
    "    def get_name(self):\n",
    "        # Returns name of the vertex\n",
    "        return self.name\n",
    "\n",
    "    def get_adjecent(self):\n",
    "        # Returns adjacent dictionary\n",
    "        return self.adjacentVertices\n",
    "    \n",
    "    def get_weight(self, neighborVertexObj):\n",
    "        # Returns weight value of a particular neighborVertexObj in the adjacent dictionary\n",
    "        edgeWeight = self.adjacentVertices[neighborVertexObj]        \n",
    "        return edgeWeight"
   ]
  },
  {
   "cell_type": "markdown",
   "metadata": {},
   "source": [
    "### Graph Class"
   ]
  },
  {
   "cell_type": "code",
   "execution_count": 3,
   "metadata": {},
   "outputs": [],
   "source": [
    "class Graph:\n",
    "    def __init__(self):\n",
    "        self.id_dict = {}\n",
    "        self.parent = {}\n",
    "        self.rank = {}\n",
    "        \n",
    "    def __iter__(self):\n",
    "        return iter(self.id_dict.values())\n",
    "    \n",
    "    def add_vertex(self, iD, name):\n",
    "        new_vertex = Vertex(iD, name)\n",
    "        self.id_dict[iD] = new_vertex\n",
    "        return new_vertex\n",
    "    \n",
    "    def add_edge(self, fromID, toID, weight = 0):\n",
    "        if (fromID not in self.id_dict) or (toID not in self.id_dict):\n",
    "            print(\"Unable to add edge, vertex not found.\")\n",
    "        else:\n",
    "            self.id_dict[fromID].add_neighborVertexObj(self.id_dict[toID], weight)\n",
    "            self.id_dict[toID].add_neighborVertexObj(self.id_dict[fromID], weight)\n",
    "            \n",
    "    def get_vertex(self, id):\n",
    "        if id not in self.id_dict:\n",
    "            return None\n",
    "        else:\n",
    "            return self.id_dict[id]\n",
    "        \n",
    "    def get_vertex_by_id(self, id):\n",
    "        for vertex in self.id_dict.items():\n",
    "            if vertex.get_id() == id:\n",
    "                return vertex\n",
    "        \n",
    "    def get_id_dict(self):\n",
    "        return self.id_dict\n",
    "    \n",
    "    def get_vertices(self):\n",
    "        return self.id_dict.keys()\n",
    "    \n",
    "    "
   ]
  },
  {
   "cell_type": "markdown",
   "metadata": {},
   "source": [
    "### Utility functions"
   ]
  },
  {
   "cell_type": "code",
   "execution_count": 4,
   "metadata": {},
   "outputs": [],
   "source": [
    "def addVertexFromFile(graph, filePath):\n",
    "    with open(filePath) as f:\n",
    "        for line in f:\n",
    "            splittedLineList = line.split(\" \")\n",
    "            lengthToSplit = [1, len(splittedLineList)-2] \n",
    "            graph.add_vertex(int(splittedLineList[0]),[splittedLineList[x - y: x] for x, y in zip(accumulate(lengthToSplit), lengthToSplit)])\n",
    "    return graph    \n",
    "                                              \n",
    "def addEdgeFromFile(graph, filePath):\n",
    "    with open(filePath) as f:\n",
    "        for line in f:\n",
    "            splittedLineList = line.split(\" \")\n",
    "            graph.add_edge(int(splittedLineList[0]), int(splittedLineList[1]), invertEdges(int(splittedLineList[2])))\n",
    "    return graph   \n",
    "\n",
    "def invertEdges(num):\n",
    "    return -1*num\n",
    "\n",
    "def printGraphWeights(graph):\n",
    "    print(\"Graph Weights:\")\n",
    "    print(\"vertex1, vertex2, weight\")\n",
    "    for vertex in graph:\n",
    "        for edge in vertex.get_neighborVertexObj():\n",
    "            vextexId = vertex.get_id()\n",
    "            edgeId = edge.get_id()\n",
    "            weight = invertEdges(vertex.get_weight(edge))\n",
    "            print ('( Vertex:%s , Vertex:%s, Weight:%3d)'  % ( vextexId, edgeId, weight))\n",
    "\n",
    "def printGraphWeightsNg(graph):\n",
    "    print(\"Graph Weights:\")\n",
    "    print(\"vertex1, vertex2, weight\")\n",
    "    for vertex in graph:\n",
    "        for edge in vertex.get_neighborVertexObj():\n",
    "            vextexId = vertex.get_id()\n",
    "            edgeId = edge.get_id()\n",
    "            weight = vertex.get_weight(edge)\n",
    "            print ('( Vertex:%s , Vertex:%s, Weight:%3d)'  % ( vextexId, edgeId, weight))\n",
    "            \n",
    "def printGraphDict(graph):\n",
    "    print(\"Graph Dictionary:\")\n",
    "    print(graph.get_id_dict())\n",
    "    \n",
    "def getAllEdges(graph):\n",
    "    # Return Edges of the graph in decending order \n",
    "    edges=[]\n",
    "    for vertex in graph:\n",
    "        edges.extend(vertex.get_edges()[:])\n",
    "    sortedEdgesNpArray = np.array(edges, dtype = int)\n",
    "    return sortedEdgesNpArray[np.argsort(sortedEdgesNpArray[:, 2])]  \n",
    "\n",
    "def findParentNode(parent, vertice):\n",
    "    # returns root node of all edges\n",
    "    if parent[vertice] != vertice:\n",
    "        parent[vertice] = findParentNode(parent, parent[vertice])\n",
    "    #while parent[vertice] != vertice:\n",
    "    #    parent[vertice] = findParentNode(parent, parent[vertice])\n",
    "    #return parent[vertice]\n",
    "    return parent[vertice]\n",
    "\n",
    "def union(root1, root2, parent, rank):\n",
    "    if root1 != root2:\n",
    "        if rank[root1] > rank[root2]:\n",
    "            parent[root1] = root2\n",
    "            if rank[root1] == rank[root2]: \n",
    "                rank[root2] += 1\n",
    "        else:\n",
    "            parent[root2] = root1\n",
    "\n",
    "def getParentRankDicts(graph, vertice):\n",
    "    graph.parent[vertice] = vertice\n",
    "    graph.rank[vertice] = 0\n",
    "    return graph\n",
    "\n",
    "def concatenate_list_data(list):\n",
    "    result= ''\n",
    "    for element in list:\n",
    "        result += str(element)\n",
    "    return result\n",
    "\n",
    "def getCollaboratorName(graph, cList):\n",
    "    \"\"\"\n",
    "    [[27133, 42540, 426],\n",
    "     [50612, 39174, 360],\n",
    "     [5647, 5648, 347],\n",
    "     [66068, 66070, 288],\n",
    "     [13449, 33487, 277],\n",
    "     [39158, 39087, 274]]\n",
    "\n",
    "    \"\"\"\n",
    "    print(\"Top collaborators:\")\n",
    "    try:\n",
    "        for c in cList:\n",
    "            c1 = graph.get_vertex(c[0])\n",
    "            c2 = graph.get_vertex(c[1])\n",
    "            print(\"{} and {}\".format(concatenate_list_data(c1.get_name()[1]),concatenate_list_data(c2.get_name()[1])))\n",
    "    except Exception as e:\n",
    "        pass\n",
    "    "
   ]
  },
  {
   "cell_type": "markdown",
   "metadata": {},
   "source": [
    "### We have our graph ready...... now moving forward towards the maximum spanning tree"
   ]
  },
  {
   "cell_type": "markdown",
   "metadata": {},
   "source": [
    "A spanning tree of an undirected graph is a connected subgraph that covers all the graph nodes with the minimum possible number of edges. In general, a graph may have more than one spanning tree. If the graph is edge-weighted, we can define the weight of a spanning tree as the sum of the weights of all its edges. A maximum spanning tree has the largest weight among all spanning trees."
   ]
  },
  {
   "cell_type": "markdown",
   "metadata": {},
   "source": [
    "#### Pseudo-Code"
   ]
  },
  {
   "cell_type": "markdown",
   "metadata": {},
   "source": [
    "If the number of nodes in a graph is V, then each of its spanning trees should have (V-1) edges and contain no cycles. We can describe Kruskal’s algorithm in the following pseudo-code to generate a maximum spanning tree:\n",
    "\n",
    "1. Sort all the edges in non-decreasing order of their weight.\n",
    "2. Pick the largest edge. Check if it forms a cycle with the spanning tree formed so far. If cycle is not formed, include this edge. Else, discard it.\n",
    "3. Repeat 2. until there are (V-1) edges in the spanning tree.\n",
    "\n",
    "##### What is Minimum Spanning Tree?\n",
    "Given a connected and undirected graph, a spanning tree of that graph is a subgraph that is a tree and connects all the vertices together. A single graph can have many different spanning trees. A maximum spanning tree  for a weighted, connected and undirected graph is a spanning tree with weight greater than or equal to the weight of every other spanning tree. The weight of a spanning tree is the sum of weights given to each edge of the spanning tree.\n",
    "\n",
    "##### How many edges does a maximum spanning tree has?\n",
    "A maximum spanning tree has (V – 1) edges where V is the number of vertices in the given graph.\n",
    "\n",
    "##### In simpler Words kya kerna hai ?\n",
    "Step 1 – Remove all loops and parallel edges\n",
    "\n",
    "Step 2 – Arrange all the edges in descending order of cost\n",
    "\n",
    "Step 3 – Add edges with most weight\n"
   ]
  },
  {
   "cell_type": "code",
   "execution_count": 5,
   "metadata": {},
   "outputs": [],
   "source": [
    "def KruskalMaximumSpanningTree(graph): \n",
    "    \n",
    "    maximumSpanningTree = []\n",
    "    # Sort all the edges in decreasing order of their weight.  \n",
    "    print(\"Fetching all edges sorted in descending order...\")\n",
    "    EdgeNpArray =  getAllEdges(graph)   \n",
    "    \n",
    "    # Create V subsets with single elements \n",
    "    print(\"Created {} subsets with single elements\".format(len(graph.id_dict)))\n",
    "    for verticeIndex in range(EdgeNpArray.shape[0]):\n",
    "        graph = getParentRankDicts(graph, EdgeNpArray[verticeIndex][0])\n",
    "    \n",
    "    # Number of edges taken is equal to V-1 \n",
    "    for i in range(EdgeNpArray.shape[0]):\n",
    "        # Picking the largest edge\n",
    "        if findParentNode(graph.parent, EdgeNpArray[i][0]) != findParentNode(graph.parent, EdgeNpArray[i][1]):    \n",
    "            union(findParentNode(graph.parent, EdgeNpArray[i][1]), findParentNode(graph.parent, EdgeNpArray[i][0]), graph.parent, graph.rank)      \n",
    "            maximumSpanningTree.append([EdgeNpArray[i][0], EdgeNpArray[i][1], invertEdges(EdgeNpArray[i][2])])\n",
    "    print(\"Maxmimum Spanning Tree Generated.\")\n",
    "    return maximumSpanningTree"
   ]
  },
  {
   "cell_type": "markdown",
   "metadata": {},
   "source": [
    "## Testing Graph on Smaller Dataset (50 Vertices)"
   ]
  },
  {
   "cell_type": "code",
   "execution_count": 6,
   "metadata": {},
   "outputs": [
    {
     "name": "stdout",
     "output_type": "stream",
     "text": [
      "Initializing Graph...\n",
      "Graph Intialized.\n",
      "Graph Created.\n",
      "Wall time: 959 µs\n"
     ]
    }
   ],
   "source": [
    "%%time\n",
    "print(\"Initializing Graph...\")\n",
    "researchCollaborationGraphTest = Graph()\n",
    "print(\"Graph Intialized.\")\n",
    "researchCollaborationGraphTest = addVertexFromFile(researchCollaborationGraphTest, \"coauth-DBLP-proj-graph/coauth-DBLP-node-labels-test.txt\")\n",
    "researchCollaborationGraphTest = addEdgeFromFile(researchCollaborationGraphTest, \"coauth-DBLP-proj-graph/coauth-DBLP-proj-graph-test.txt\")\n",
    "print(\"Graph Created.\")"
   ]
  },
  {
   "cell_type": "code",
   "execution_count": 7,
   "metadata": {},
   "outputs": [
    {
     "name": "stdout",
     "output_type": "stream",
     "text": [
      "Wall time: 2.99 ms\n"
     ]
    }
   ],
   "source": [
    "%%time\n",
    "%%capture\n",
    "KMST = KruskalMaximumSpanningTree(researchCollaborationGraphTest)"
   ]
  },
  {
   "cell_type": "code",
   "execution_count": 8,
   "metadata": {},
   "outputs": [
    {
     "name": "stdout",
     "output_type": "stream",
     "text": [
      "Top collaborators:\n",
      "GadM. and Amihood\n",
      "SpyrosC. and PaulG.\n",
      "JoongChae and Kunsoo\n",
      "PaulG. and PanagiotaN.\n",
      "Xi and Xiaotie\n",
      "Wall time: 0 ns\n"
     ]
    }
   ],
   "source": [
    "%%time\n",
    "getCollaboratorName(researchCollaborationGraphTest, KMST[:5])"
   ]
  },
  {
   "cell_type": "markdown",
   "metadata": {},
   "source": [
    "## Testing Graph on Complete Dataset"
   ]
  },
  {
   "cell_type": "code",
   "execution_count": 9,
   "metadata": {},
   "outputs": [
    {
     "name": "stdout",
     "output_type": "stream",
     "text": [
      "Wall time: 43.5 s\n"
     ]
    }
   ],
   "source": [
    "%%time\n",
    "%%capture\n",
    "print(\"Initializing Graph...\")\n",
    "researchCollaborationGraph = Graph()\n",
    "print(\"Graph Intialized.\")\n",
    "researchCollaborationGraph = addVertexFromFile(researchCollaborationGraph, \"coauth-DBLP-proj-graph/coauth-DBLP-node-labels.txt\")\n",
    "researchCollaborationGraph = addEdgeFromFile(researchCollaborationGraph, \"coauth-DBLP-proj-graph/coauth-DBLP-proj-graph.txt\")\n",
    "print(\"Graph Created.\")"
   ]
  },
  {
   "cell_type": "code",
   "execution_count": 10,
   "metadata": {},
   "outputs": [
    {
     "name": "stdout",
     "output_type": "stream",
     "text": [
      "Wall time: 999 µs\n"
     ]
    }
   ],
   "source": [
    "%%time\n",
    "%%capture\n",
    "vertices = researchCollaborationGraph.get_vertices()\n",
    "print(\"Total number of vertices in the researchCollaborationGraph: {}\".format(len(vertices)))"
   ]
  },
  {
   "cell_type": "code",
   "execution_count": 11,
   "metadata": {},
   "outputs": [
    {
     "name": "stdout",
     "output_type": "stream",
     "text": [
      "Wall time: 1min 30s\n"
     ]
    }
   ],
   "source": [
    "%%time\n",
    "%%capture\n",
    "KMST = KruskalMaximumSpanningTree(researchCollaborationGraph)"
   ]
  },
  {
   "cell_type": "markdown",
   "metadata": {},
   "source": [
    "#### Top 5 Research Collaborations"
   ]
  },
  {
   "cell_type": "code",
   "execution_count": 12,
   "metadata": {},
   "outputs": [
    {
     "data": {
      "text/plain": [
       "[[27133, 42540, 426],\n",
       " [50612, 39174, 360],\n",
       " [5647, 5648, 347],\n",
       " [66068, 66070, 288],\n",
       " [13449, 33487, 277]]"
      ]
     },
     "execution_count": 12,
     "metadata": {},
     "output_type": "execute_result"
    }
   ],
   "source": [
    "KMST[:5]"
   ]
  },
  {
   "cell_type": "code",
   "execution_count": 13,
   "metadata": {},
   "outputs": [
    {
     "name": "stdout",
     "output_type": "stream",
     "text": [
      "Top collaborators:\n",
      "SudhakarM. and Irith\n",
      "Tomoya and Makoto\n",
      "Didier and Henri\n",
      "Jiajun and Chun\n",
      "David and Dennis\n",
      "Wall time: 964 µs\n"
     ]
    }
   ],
   "source": [
    "%%time\n",
    "getCollaboratorName(researchCollaborationGraph, KMST[:5])"
   ]
  },
  {
   "cell_type": "markdown",
   "metadata": {},
   "source": [
    "#### Note: This project was completed by Ammad Umar (i170092). Document with strategy/logic is submitted with this pynb notebook. "
   ]
  }
 ],
 "metadata": {
  "kernelspec": {
   "display_name": "Python 3",
   "language": "python",
   "name": "python3"
  },
  "language_info": {
   "codemirror_mode": {
    "name": "ipython",
    "version": 3
   },
   "file_extension": ".py",
   "mimetype": "text/x-python",
   "name": "python",
   "nbconvert_exporter": "python",
   "pygments_lexer": "ipython3",
   "version": "3.7.4"
  }
 },
 "nbformat": 4,
 "nbformat_minor": 2
}
